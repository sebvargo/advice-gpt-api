{
 "cells": [
  {
   "cell_type": "code",
   "execution_count": 1,
   "metadata": {},
   "outputs": [
    {
     "name": "stderr",
     "output_type": "stream",
     "text": [
      "c:\\Users\\sebva\\.virtualenvs\\advice-persona-api-US8xno1K\\lib\\site-packages\\flask_restx\\api.py:322: UserWarning: The setup method 'add_url_rule' can no longer be called on the blueprint 'api'. It has already been registered at least once, any changes will not be applied consistently.\n",
      "Make sure all imports, decorators, functions, etc. needed to set up the blueprint are done before registering it.\n",
      "This warning will become an exception in Flask 2.3.\n",
      "  app_or_blueprint.add_url_rule(self._doc, \"doc\", self.render_doc)\n",
      "c:\\Users\\sebva\\.virtualenvs\\advice-persona-api-US8xno1K\\lib\\site-packages\\flask\\blueprints.py:490: UserWarning: The setup method 'record' can no longer be called on the blueprint 'api'. It has already been registered at least once, any changes will not be applied consistently.\n",
      "Make sure all imports, decorators, functions, etc. needed to set up the blueprint are done before registering it.\n",
      "This warning will become an exception in Flask 2.3.\n",
      "  self.record(\n",
      "c:\\Users\\sebva\\.virtualenvs\\advice-persona-api-US8xno1K\\lib\\site-packages\\flask_restx\\api.py:323: UserWarning: The setup method 'add_url_rule' can no longer be called on the blueprint 'api'. It has already been registered at least once, any changes will not be applied consistently.\n",
      "Make sure all imports, decorators, functions, etc. needed to set up the blueprint are done before registering it.\n",
      "This warning will become an exception in Flask 2.3.\n",
      "  app_or_blueprint.add_url_rule(self.prefix or \"/\", \"root\", self.render_root)\n"
     ]
    }
   ],
   "source": [
    "from app import create_app\n",
    "from app.models import *\n",
    "from app.utils import *\n",
    "from datetime import datetime as dt\n",
    "from dotenv import  load_dotenv\n",
    "import os\n",
    "from random import randint\n",
    "\n",
    "app = create_app()"
   ]
  },
  {
   "attachments": {},
   "cell_type": "markdown",
   "metadata": {},
   "source": [
    "## User"
   ]
  },
  {
   "attachments": {},
   "cell_type": "markdown",
   "metadata": {},
   "source": [
    "### Create admin and 10 test users"
   ]
  },
  {
   "cell_type": "code",
   "execution_count": null,
   "metadata": {},
   "outputs": [],
   "source": [
    "with app.app_context():\n",
    "    objs_to_add = []\n",
    "    \n",
    "    # Code Block\n",
    "    #################################################\n",
    "    \n",
    "    if not User.query.filter_by(username='admin').first():\n",
    "        # add admin\n",
    "        admin = User(username = 'admin', email = 'admin@example.com', password = \"a234567!\")\n",
    "        objs_to_add.append(admin)\n",
    "    else: pass\n",
    "    for idx, user in enumerate(range(10)):\n",
    "        random_num = randint(1000, 10000000)\n",
    "        username = f'test_{random_num}'\n",
    "        u = User(username = username, email = f'{username}@example.com', password = \"a234567!\")\n",
    "        objs_to_add.append(u)\n",
    "    \n",
    "    ##################################################\n",
    "    db.session.add_all(objs_to_add)\n",
    "    add_to_db, msg = commit_to_db(db)\n",
    "    print(msg)\n",
    "    db.session.close()\n",
    "\n",
    "\n"
   ]
  },
  {
   "attachments": {},
   "cell_type": "markdown",
   "metadata": {},
   "source": [
    "### Create admin and user roles"
   ]
  },
  {
   "cell_type": "code",
   "execution_count": null,
   "metadata": {},
   "outputs": [],
   "source": [
    "with app.app_context():\n",
    "    objs_to_add = []\n",
    "    \n",
    "    # Code Block\n",
    "    #################################################\n",
    "    \n",
    "    admin = Role(name = 'admin', description = 'Administrator')\n",
    "    user = Role(name = 'user', description = 'User')\n",
    "    objs_to_add.extend([admin, user])\n",
    "    \n",
    "    \n",
    "    ##################################################\n",
    "    db.session.add_all(objs_to_add)\n",
    "    _, msg = commit_to_db(db)\n",
    "    print(msg)\n",
    "    db.session.close()"
   ]
  },
  {
   "attachments": {},
   "cell_type": "markdown",
   "metadata": {},
   "source": [
    "### Assign user roles"
   ]
  },
  {
   "cell_type": "code",
   "execution_count": 3,
   "metadata": {},
   "outputs": [
    {
     "name": "stdout",
     "output_type": "stream",
     "text": [
      "success\n"
     ]
    }
   ],
   "source": [
    "with app.app_context():\n",
    "    objs_to_add = []\n",
    "    \n",
    "    # Code Block\n",
    "    #################################################\n",
    "    \n",
    "    user_admin = User.query.filter_by(username=\"admin\").first()\n",
    "    all_users = User.query.filter(User.username!= \"admin\").all()\n",
    "    role_admin = Role.query.filter_by(name=\"admin\").first()\n",
    "    role_user = Role.query.filter_by(name=\"user\").first()\n",
    "    objs_to_add.append(UserRole(user=user_admin, role=role_admin))\n",
    "    \n",
    "    for u in all_users:\n",
    "        objs_to_add.append(UserRole(user=u, role=role_user))\n",
    "    \n",
    "    ##################################################  \n",
    "    db.session.add_all(objs_to_add)\n",
    "    _, msg = commit_to_db(db)\n",
    "    print(msg)\n",
    "    db.session.close()"
   ]
  },
  {
   "attachments": {},
   "cell_type": "markdown",
   "metadata": {},
   "source": [
    "## Persona"
   ]
  },
  {
   "attachments": {},
   "cell_type": "markdown",
   "metadata": {},
   "source": [
    "### Create 3 Personas"
   ]
  },
  {
   "cell_type": "code",
   "execution_count": 13,
   "metadata": {},
   "outputs": [
    {
     "name": "stdout",
     "output_type": "stream",
     "text": [
      "success\n"
     ]
    }
   ],
   "source": [
    "with app.app_context():\n",
    "    objs_to_add = []\n",
    "    \n",
    "    # Code Block\n",
    "    #################################################\n",
    "    \n",
    "    chad, stacy, unknown = Persona(name=\"Chad\"), Persona(name=\"Stacy\"), Persona(name=\"Unknown\")\n",
    "    objs_to_add = [chad, stacy, unknown]\n",
    "    \n",
    "    ##################################################\n",
    "    db.session.add_all(objs_to_add)\n",
    "    _, msg = commit_to_db(db)\n",
    "    print(msg)\n",
    "    db.session.close()"
   ]
  },
  {
   "attachments": {},
   "cell_type": "markdown",
   "metadata": {},
   "source": [
    "## Advice"
   ]
  },
  {
   "attachments": {},
   "cell_type": "markdown",
   "metadata": {},
   "source": [
    "### Add two advice slips from \"Unknown\" persona"
   ]
  },
  {
   "cell_type": "code",
   "execution_count": 27,
   "metadata": {},
   "outputs": [
    {
     "name": "stdout",
     "output_type": "stream",
     "text": [
      "success\n"
     ]
    }
   ],
   "source": [
    "with app.app_context():\n",
    "    objs_to_add = []\n",
    "    \n",
    "    # Code Block\n",
    "    #################################################\n",
    "    \n",
    "    # Advice is a child of Entity, so first create an Entity.\n",
    "    advice_entity_1 = Entity(type = \"advice\")\n",
    "    advice_entity_2 = Entity(type = \"advice\")\n",
    "    objs_to_add.extend([advice_entity_1, advice_entity_2])\n",
    "    \n",
    "    # Proceed only if the entity is saved successfully.\n",
    "    persona = Persona.query.filter_by(name = \"Unknown\").first()\n",
    "    advice1 = Advice(\n",
    "        entity = advice_entity_1, \n",
    "        persona = persona,\n",
    "        content = \"Remember that spiders are more afraid of you, than you are of them.\",\n",
    "        adviceslip_id = 1)\n",
    "    advice2 = Advice(\n",
    "        entity = advice_entity_2, \n",
    "        persona = persona,\n",
    "        content = \"The more ideas that you give away, the more ideas that will come to you.\",\n",
    "        adviceslip_id = 54)\n",
    "    objs_to_add.extend([advice1, advice2])            \n",
    "    \n",
    "    ##################################################\n",
    "    db.session.add_all(objs_to_add)\n",
    "    saved_to_db, msg = commit_to_db(db)\n",
    "    if saved_to_db: print(msg)\n",
    "    else: raise msg\n",
    "    db.session.close()"
   ]
  },
  {
   "attachments": {},
   "cell_type": "markdown",
   "metadata": {},
   "source": [
    "### User 'admin' likes the advice about spiders."
   ]
  },
  {
   "cell_type": "code",
   "execution_count": 29,
   "metadata": {},
   "outputs": [
    {
     "name": "stdout",
     "output_type": "stream",
     "text": [
      "success\n"
     ]
    }
   ],
   "source": [
    "with app.app_context():\n",
    "    objs_to_add = []\n",
    "    \n",
    "    # Code Block\n",
    "    #################################################\n",
    "    \n",
    "    user = User.query.filter_by(username = 'admin').first()\n",
    "    advice = Advice.query.filter_by(adviceslip_id = 1).first()\n",
    "    like = EntityLike(user = user, entity = advice.entity)\n",
    "    objs_to_add.append(like)\n",
    "    \n",
    "    ##################################################\n",
    "    db.session.add_all(objs_to_add)\n",
    "    saved_to_db, msg = commit_to_db(db)\n",
    "    if saved_to_db: print(msg)\n",
    "    else: raise msg\n",
    "    db.session.close()"
   ]
  },
  {
   "cell_type": "code",
   "execution_count": null,
   "metadata": {},
   "outputs": [],
   "source": []
  }
 ],
 "metadata": {
  "kernelspec": {
   "display_name": "advice-persona-api-US8xno1K",
   "language": "python",
   "name": "python3"
  },
  "language_info": {
   "codemirror_mode": {
    "name": "ipython",
    "version": 3
   },
   "file_extension": ".py",
   "mimetype": "text/x-python",
   "name": "python",
   "nbconvert_exporter": "python",
   "pygments_lexer": "ipython3",
   "version": "3.9.2"
  },
  "orig_nbformat": 4,
  "vscode": {
   "interpreter": {
    "hash": "344714e94bf565b64b9bb95c36980fade99c6d9dacb0b242ed832cfd6deabac2"
   }
  }
 },
 "nbformat": 4,
 "nbformat_minor": 2
}
