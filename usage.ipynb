{
 "cells": [
  {
   "cell_type": "code",
   "execution_count": 1,
   "metadata": {},
   "outputs": [],
   "source": [
    "from app import create_app\n",
    "from app.models import *\n",
    "from app.utils import *\n",
    "from datetime import datetime as dt\n",
    "from dotenv import  load_dotenv\n",
    "import os\n",
    "from random import randint\n",
    "import dotenv\n",
    "dotenv.load_dotenv()\n",
    "\n",
    "app = create_app()"
   ]
  },
  {
   "attachments": {},
   "cell_type": "markdown",
   "metadata": {},
   "source": [
    "## User"
   ]
  },
  {
   "attachments": {},
   "cell_type": "markdown",
   "metadata": {},
   "source": [
    "### Create admin, jane_doe and 9 test users"
   ]
  },
  {
   "cell_type": "code",
   "execution_count": null,
   "metadata": {},
   "outputs": [],
   "source": [
    "with app.app_context():\n",
    "    objs_to_add = []\n",
    "    \n",
    "    # Code Block\n",
    "    #################################################\n",
    "    \n",
    "    if not User.query.filter_by(username='admin').first():\n",
    "        # add admin\n",
    "        admin = User(username = 'admin', email = 'admin@example.com', password = \"a234567!\")\n",
    "        objs_to_add.append(admin)\n",
    "    else: pass\n",
    "    \n",
    "    if not User.query.filter_by(username='seb').first():\n",
    "        jane_doe = User(username = 'jane_doe', email = 'jane_doe@example.com', password = \"a234567!\")\n",
    "        objs_to_add.append(jane_doe)\n",
    "    else: pass\n",
    "    \n",
    "    for idx, user in enumerate(range(9)):\n",
    "        random_num = randint(1000, 10000000)\n",
    "        username = f'test_{random_num}'\n",
    "        u = User(username = username, email = f'{username}@example.com', password = \"a234567!\")\n",
    "        objs_to_add.append(u)\n",
    "    \n",
    "    ##################################################\n",
    "    db.session.add_all(objs_to_add)\n",
    "    add_to_db, msg = commit_to_db(db)\n",
    "    print(msg)\n",
    "    db.session.close()\n",
    "\n",
    "\n"
   ]
  },
  {
   "attachments": {},
   "cell_type": "markdown",
   "metadata": {},
   "source": [
    "### Create admin and user roles"
   ]
  },
  {
   "cell_type": "code",
   "execution_count": null,
   "metadata": {},
   "outputs": [],
   "source": [
    "with app.app_context():\n",
    "    objs_to_add = []\n",
    "    \n",
    "    # Code Block\n",
    "    #################################################\n",
    "    \n",
    "    admin = Role(name = 'admin', description = 'Administrator')\n",
    "    user = Role(name = 'user', description = 'User')\n",
    "    objs_to_add.extend([admin, user])\n",
    "    \n",
    "    \n",
    "    ##################################################\n",
    "    db.session.add_all(objs_to_add)\n",
    "    _, msg = commit_to_db(db)\n",
    "    print(msg)\n",
    "    db.session.close()"
   ]
  },
  {
   "attachments": {},
   "cell_type": "markdown",
   "metadata": {},
   "source": [
    "### Assign user roles"
   ]
  },
  {
   "cell_type": "code",
   "execution_count": null,
   "metadata": {},
   "outputs": [],
   "source": [
    "with app.app_context():\n",
    "    objs_to_add = []\n",
    "    \n",
    "    # Code Block\n",
    "    #################################################\n",
    "    \n",
    "    user_admin = User.query.filter_by(username=\"admin\").first()\n",
    "    all_users = User.query.filter(User.username!= \"admin\").all()\n",
    "    role_admin = Role.query.filter_by(name=\"admin\").first()\n",
    "    role_user = Role.query.filter_by(name=\"user\").first()\n",
    "    objs_to_add.append(UserRole(user=user_admin, role=role_admin))\n",
    "    \n",
    "    for u in all_users:\n",
    "        objs_to_add.append(UserRole(user=u, role=role_user))\n",
    "    \n",
    "    ##################################################  \n",
    "    db.session.add_all(objs_to_add)\n",
    "    _, msg = commit_to_db(db)\n",
    "    print(msg)\n",
    "    db.session.close()"
   ]
  },
  {
   "attachments": {},
   "cell_type": "markdown",
   "metadata": {},
   "source": [
    "## Persona"
   ]
  },
  {
   "attachments": {},
   "cell_type": "markdown",
   "metadata": {},
   "source": [
    "### Create 2 Personas"
   ]
  },
  {
   "cell_type": "code",
   "execution_count": null,
   "metadata": {},
   "outputs": [],
   "source": [
    "with app.app_context():\n",
    "    objs_to_add = []\n",
    "    \n",
    "    # Code Block\n",
    "    #################################################\n",
    "    \n",
    "    unknown, bro =  Persona(name=\"Unknown\", persona_id=1), Persona(name=\"Bro\") \n",
    "    objs_to_add = [unknown, bro]\n",
    "    \n",
    "    ##################################################\n",
    "    db.session.add_all(objs_to_add)\n",
    "    _, msg = commit_to_db(db)\n",
    "    print(msg)\n",
    "    db.session.close()"
   ]
  },
  {
   "attachments": {},
   "cell_type": "markdown",
   "metadata": {},
   "source": [
    "## Advice"
   ]
  },
  {
   "attachments": {},
   "cell_type": "markdown",
   "metadata": {},
   "source": [
    "### Add two advice slips from \"Unknown\" persona"
   ]
  },
  {
   "cell_type": "code",
   "execution_count": 2,
   "metadata": {},
   "outputs": [
    {
     "name": "stdout",
     "output_type": "stream",
     "text": [
      "success\n"
     ]
    }
   ],
   "source": [
    "with app.app_context():\n",
    "    objs_to_add = []\n",
    "    \n",
    "    # Code Block\n",
    "    #################################################\n",
    "    \n",
    "    # Advice is a child of Entity, so first create an Entity.\n",
    "    advice_entity_1 = Entity(type = \"advice\")\n",
    "    advice_entity_2 = Entity(type = \"advice\")\n",
    "    objs_to_add.extend([advice_entity_1, advice_entity_2])\n",
    "    \n",
    "    # Proceed only if the entity is saved successfully.\n",
    "    persona = Persona.query.filter_by(name = \"Unknown\").first()\n",
    "    advice1 = Advice(\n",
    "        entity = advice_entity_1, \n",
    "        persona = persona,\n",
    "        content = \"Remember that spiders are more afraid of you, than you are of them.\",\n",
    "        adviceslip_id = 1)\n",
    "    advice2 = Advice(\n",
    "        entity = advice_entity_2, \n",
    "        persona = persona,\n",
    "        content = \"The more ideas that you give away, the more ideas that will come to you.\",\n",
    "        adviceslip_id = 54)\n",
    "    objs_to_add.extend([advice1, advice2])            \n",
    "    \n",
    "    ##################################################\n",
    "    db.session.add_all(objs_to_add)\n",
    "    saved_to_db, msg = commit_to_db(db)\n",
    "    if saved_to_db: print(msg)\n",
    "    else: raise msg\n",
    "    db.session.close()"
   ]
  },
  {
   "attachments": {},
   "cell_type": "markdown",
   "metadata": {},
   "source": [
    "### User 'jane_doe' likes the advice about spiders."
   ]
  },
  {
   "cell_type": "code",
   "execution_count": null,
   "metadata": {},
   "outputs": [],
   "source": [
    "with app.app_context():\n",
    "    objs_to_add = []\n",
    "    \n",
    "    # Code Block\n",
    "    #################################################\n",
    "    \n",
    "    advice_spider = Advice.query.filter(Advice.content.op('~*')('[Sp]pider')).first()\n",
    "    jane_doe = User.query.filter_by(username = 'jane_doe').first()\n",
    "    view_entity = EntityView(entity =advice_spider.entity, user = jane_doe)\n",
    "    like_entity = EntityLike(entity =advice_spider.entity, user = jane_doe)\n",
    "    objs_to_add.extend([like_entity, view_entity])\n",
    "\n",
    "    ##################################################\n",
    "    db.session.add_all(objs_to_add)\n",
    "    saved_to_db, msg = commit_to_db(db)\n",
    "    if saved_to_db: print(msg)\n",
    "    else: raise msg\n",
    "    db.session.close()"
   ]
  },
  {
   "attachments": {},
   "cell_type": "markdown",
   "metadata": {},
   "source": [
    "## Tags"
   ]
  },
  {
   "attachments": {},
   "cell_type": "markdown",
   "metadata": {},
   "source": [
    "### Add a 50 categories (with their descriptions) to Tag table"
   ]
  },
  {
   "cell_type": "code",
   "execution_count": null,
   "metadata": {},
   "outputs": [],
   "source": [
    "categories = [\"Relationships\",\"Career\",\"Finance\",\"Development\",\"Parenting\",\"Health\",\"Travel\",\"Education\",\"Home\",\"Law\",\"Communication\",\"Fashion\",\"Technology\",\"Food\",\"Environment\",\"Spirituality\",\"Safety\",\"Pets\",\"Photography\",\"Hobbies\",\"Marketing\",\"Volunteering\",\"Public speaking\",\"Stress\",\"Writing\",\"Organization\",\"Language\",\"Dating\",\"Branding\",\"Transportation\", \"Gardening\",\"DIY\",\"Shopping\",\"Insurance\",\"Gambling\",\"Workplace\",\"Networking\",\"Investing\",\"Retirement\",\"Family\",\"Etiquette\",\"Wedding\",\"Funerals\",\"Emotions\",\"Disability\",\"Drugs\",\"Grief\",\"Mental Health\",\"Elderly\", \"Cybersecurity\"]\n",
    "descriptions = [\"Advice on maintaining and improving romantic relationships\", \"Advice on career development, job search, and professional growth\", \"Advice on managing personal finances, budgeting, and investing\",\"Advice on personal growth and self-improvement\", \"Advice on raising children and parenting strategies\", \"Advice on maintaining physical and mental well-being\",\"Advice on planning and enjoying travel experiences\",\"Advice on pursuing education and achieving academic success\",\"Advice on home improvement, decorating, and maintenance\",\"Advice on legal issues and rights\",\"Advice on building and maintaining relationships and social skills\",\"Advice on personal style and grooming\",\"Advice on using and understanding technology\",\"Advice on cooking, nutrition, and meal planning\",\"Advice on protecting the environment and living sustainably\",\"Advice on spirituality, religion, and personal beliefs\",\"Advice on personal safety, security and emergency preparedness\",\"Advice on caring for and training domestic animals\",\"Advice on capturing and creating photographs and videos\",\"Advice on pursuing and enjoying hobbies and interests\",\"Advice on building and promoting a personal or business brand\",\"Advice on giving back to the community and volunteering\",\"Advice on public speaking, presentations and influencing others\",\"Advice on dealing with stress and relaxation techniques\",\"Advice on writing, publishing and storytelling\",\"Advice on personal organization, productivity and time management\",\"Advice on learning new languages\",\"Advice on online dating and relationships\",\"Advice on personal branding and online reputation management\",\"Advice on choosing and maintaining vehicles, and alternative transportation options\", \"Advice on cultivating plants, lawns, and gardens\", \"Advice on doing home repairs and DIY projects\",\"Advice on smart shopping and consumer rights\",\"Advice on understanding and purchasing insurance policies\",\"Advice on gambling, games of chance and online betting\",\"Advice on navigating office politics and building professional relationships in the workplace\",\"Advice on building a professional network and making connections\",\"Advice on investing in stocks, real estate, and other assets\",\"Advice on preparing for retirement and managing retirement funds\",\"Advice on maintaining family relationships and dynamics\",\"Advice on manners and etiquette for different social situations\",\"Advice on planning and organizing weddings\",\"Advice on navigating and coping with funerals\",\"Advice on understanding and managing emotions\",\"Advice on navigating and coping with disability\",\"Advice on understanding and managing drug addiction\",\"Advice on coping with grief and loss\",\"Advice on understanding and managing mental health issues\",\"Advice on understanding and managing aging and elderly care\", \"Advice on protecting personal and business information online\"]\n",
    "\n",
    "with app.app_context():\n",
    "    objs_to_add = []\n",
    "    \n",
    "    # Code Block\n",
    "    #################################################\n",
    "    \n",
    "    for category, description in zip(categories, descriptions):\n",
    "        tag = Tag(name=category, description=description)\n",
    "        objs_to_add.append(tag)\n",
    "    \n",
    "    ##################################################\n",
    "    db.session.add_all(objs_to_add)\n",
    "    saved_to_db, msg = commit_to_db(db)\n",
    "    if saved_to_db: print(msg)\n",
    "    else: raise msg\n",
    "    db.session.close()"
   ]
  },
  {
   "attachments": {},
   "cell_type": "markdown",
   "metadata": {},
   "source": [
    "### Tag the advice about spiders with the \"Home\" and \"Safety\" tags."
   ]
  },
  {
   "cell_type": "code",
   "execution_count": null,
   "metadata": {},
   "outputs": [],
   "source": [
    "with app.app_context():\n",
    "    objs_to_add = []\n",
    "    \n",
    "    # Code Block\n",
    "    #################################################\n",
    "    \n",
    "    tag_home = Tag.query.filter_by(name = 'Home').first()\n",
    "    tag_safety = Tag.query.filter_by(name = 'Safety').first()\n",
    "    advice_spider = Advice.query.filter(Advice.content.op('~*')('[Sp]pider')).first()\n",
    "    entity_tag_home = EntityTag(entity = advice_spider.entity, tag = tag_home)\n",
    "    entity_tag_safety = EntityTag(entity = advice_spider.entity, tag = tag_safety)\n",
    "    objs_to_add.extend([entity_tag_home, entity_tag_safety])\n",
    "    \n",
    "    ##################################################\n",
    "    db.session.add_all(objs_to_add)\n",
    "    saved_to_db, msg = commit_to_db(db)\n",
    "    if saved_to_db: print(msg)\n",
    "    else: raise msg\n",
    "    db.session.close()"
   ]
  },
  {
   "attachments": {},
   "cell_type": "markdown",
   "metadata": {},
   "source": [
    "## Comments"
   ]
  },
  {
   "attachments": {},
   "cell_type": "markdown",
   "metadata": {},
   "source": [
    "### jane_doe comments on advice about spiders"
   ]
  },
  {
   "cell_type": "code",
   "execution_count": null,
   "metadata": {},
   "outputs": [],
   "source": [
    "with app.app_context():\n",
    "    objs_to_add = []\n",
    "    \n",
    "    # Code Block\n",
    "    #################################################\n",
    "    \n",
    "    advice_spider = Advice.query.filter(Advice.content.op('~*')('[Sp]pider')).first()\n",
    "    jane_doe = User.query.filter_by(username = 'jane_doe').first()\n",
    "    comment = EntityComment(entity = advice_spider.entity, user = jane_doe, content=\"This is helpful advice.\")\n",
    "    objs_to_add.append(comment)\n",
    "\n",
    "    ##################################################\n",
    "    db.session.add_all(objs_to_add)\n",
    "    saved_to_db, msg = commit_to_db(db)\n",
    "    if saved_to_db: print(msg)\n",
    "    else: raise msg\n",
    "    db.session.close()"
   ]
  },
  {
   "attachments": {},
   "cell_type": "markdown",
   "metadata": {},
   "source": [
    "### Admin likes jane_doe's comment"
   ]
  },
  {
   "cell_type": "code",
   "execution_count": null,
   "metadata": {},
   "outputs": [],
   "source": [
    "with app.app_context():\n",
    "    objs_to_add = []\n",
    "    \n",
    "    # Code Block\n",
    "    #################################################\n",
    "    \n",
    "    advice_spider = Advice.query.filter(Advice.content.op('~*')('[Sp]pider')).first()\n",
    "    jane_doe = User.query.filter_by(username = 'jane_doe').first()\n",
    "    comment = EntityComment.query.filter_by(user_id = jane_doe.user_id, entity_id = advice_spider.entity_id, content = \"This is helpful advice.\").first()\n",
    "    like_comment = EntityCommentLike(comment= comment, user = jane_doe)\n",
    "    objs_to_add.append(like_comment)\n",
    "\n",
    "    ##################################################\n",
    "    db.session.add_all(objs_to_add)\n",
    "    saved_to_db, msg = commit_to_db(db)\n",
    "    if saved_to_db: print(msg)\n",
    "    else: raise msg\n",
    "    db.session.close()"
   ]
  },
  {
   "attachments": {},
   "cell_type": "markdown",
   "metadata": {},
   "source": [
    "### Get count of comment's likes"
   ]
  },
  {
   "cell_type": "code",
   "execution_count": 2,
   "metadata": {},
   "outputs": [
    {
     "name": "stdout",
     "output_type": "stream",
     "text": [
      "1\n"
     ]
    }
   ],
   "source": [
    "with app.app_context():\n",
    "\n",
    "    \n",
    "    # Code Block\n",
    "    #################################################\n",
    "    \n",
    "    advice_spider = Advice.query.filter(Advice.content.op('~*')('[Sp]pider')).first()\n",
    "    jane_doe = User.query.filter_by(username = 'jane_doe').first()\n",
    "    comment = EntityComment.query.filter_by(user_id = jane_doe.user_id, entity_id = advice_spider.entity_id, content = \"This is helpful advice.\").first()\n",
    "    print(comment.likes())\n",
    "\n",
    "    ##################################################\n"
   ]
  },
  {
   "cell_type": "code",
   "execution_count": 5,
   "metadata": {},
   "outputs": [],
   "source": [
    "import openai"
   ]
  },
  {
   "attachments": {},
   "cell_type": "markdown",
   "metadata": {},
   "source": [
    "## OpenAI Example Usage"
   ]
  },
  {
   "cell_type": "code",
   "execution_count": 3,
   "metadata": {},
   "outputs": [
    {
     "name": "stdout",
     "output_type": "stream",
     "text": [
      "{'id': 'cmpl-6a8BYdw28Yc6jBUH6PIlodVyZUL3B', 'object': 'text_completion', 'created': 1674069292, 'model': 'davinci:ft-personal-2023-01-18-05-54-06', 'choices': [{'text': ' Climb that tree, bros! Go big or go home. Every tree must be climbed from the bottom, like a ladder to success. Take the initiative and start at the bottom and work your way to the top.', 'index': 0, 'logprobs': None, 'finish_reason': 'stop'}], 'usage': {'prompt_tokens': 10, 'completion_tokens': 45, 'total_tokens': 55}}\n"
     ]
    }
   ],
   "source": [
    "import os\n",
    "import requests\n",
    "import dotenv\n",
    "dotenv.load_dotenv()\n",
    "\n",
    "openai_url = os.getenv('OPENAI_BASE_API_URL')\n",
    "openai_apikey = os.getenv('OPENAI_API_KEY')\n",
    "model = os.getenv('OPENAI_FINETUNED_MODEL')\n",
    "\n",
    "prompt = \"Every tree must be climbed from the bottom:::\"\n",
    "url = openai_url + \"/completions\"\n",
    "\n",
    "payload = {\n",
    "    \"prompt\": prompt,\n",
    "    \"model\": model,\n",
    "    \"max_tokens\": 1024,\n",
    "    \"stop\": \":::\",  # special stop token for my finetuned model.\n",
    "    \"temperature\": 0.2\n",
    "}\n",
    "\n",
    "headers = {\n",
    "    \"Content-Type\": \"application/json\",\n",
    "    \"Authorization\": f\"Bearer {openai_apikey}\"\n",
    "}\n",
    "\n",
    "response = requests.post(url, json=payload, headers=headers)\n",
    "\n",
    "print(response.json())"
   ]
  },
  {
   "attachments": {},
   "cell_type": "markdown",
   "metadata": {},
   "source": [
    "### alternative "
   ]
  },
  {
   "cell_type": "code",
   "execution_count": 7,
   "metadata": {},
   "outputs": [
    {
     "data": {
      "text/plain": [
       "<OpenAIObject text_completion id=cmpl-6aCmW1eyaj3341Pp2g188ejDowkG0 at 0x266d18b7310> JSON: {\n",
       "  \"choices\": [\n",
       "    {\n",
       "      \"finish_reason\": \"stop\",\n",
       "      \"index\": 0,\n",
       "      \"logprobs\": null,\n",
       "      \"text\": \" Don't be a chatterbox, bros. Some things are better left unsaid. Keep some secrets, surprise people with the unexpected, and maintain that mysterious bro-factor.\"\n",
       "    }\n",
       "  ],\n",
       "  \"created\": 1674086960,\n",
       "  \"id\": \"cmpl-6aCmW1eyaj3341Pp2g188ejDowkG0\",\n",
       "  \"model\": \"davinci:ft-personal-2023-01-18-05-54-06\",\n",
       "  \"object\": \"text_completion\",\n",
       "  \"usage\": {\n",
       "    \"completion_tokens\": 36,\n",
       "    \"prompt_tokens\": 9,\n",
       "    \"total_tokens\": 45\n",
       "  }\n",
       "}"
      ]
     },
     "execution_count": 7,
     "metadata": {},
     "output_type": "execute_result"
    }
   ],
   "source": [
    "import os\n",
    "import dotenv\n",
    "import openai\n",
    "dotenv.load_dotenv()\n",
    "\n",
    "openai_url = os.getenv('OPENAI_BASE_API_URL')\n",
    "openai_apikey = os.getenv('OPENAI_API_KEY')\n",
    "model = os.getenv('OPENAI_FINETUNED_MODEL')\n",
    "\n",
    "openai.Completion.create(\n",
    "    model=model, \n",
    "    prompt = \"Some things are better left unsaid:::\",\n",
    "    temperature = 0.2,\n",
    "    stop = [\":::\"],\n",
    "    max_tokens= 1024,\n",
    "    \n",
    ")"
   ]
  },
  {
   "attachments": {},
   "cell_type": "markdown",
   "metadata": {},
   "source": [
    "## Advice Slip Example Usage"
   ]
  },
  {
   "cell_type": "code",
   "execution_count": 5,
   "metadata": {},
   "outputs": [
    {
     "name": "stdout",
     "output_type": "stream",
     "text": [
      "{'message': {'type': 'error', 'text': 'Advice slip not found.'}}\n"
     ]
    },
    {
     "data": {
      "text/plain": [
       "False"
      ]
     },
     "execution_count": 5,
     "metadata": {},
     "output_type": "execute_result"
    }
   ],
   "source": [
    "import requests\n",
    "\n",
    "url = 'https://api.adviceslip.com/advice/225'\n",
    "\n",
    "response = requests.get(url)\n",
    "\n",
    "print(response.json())\n",
    "\"slip\" in response.json()\n"
   ]
  },
  {
   "cell_type": "code",
   "execution_count": 19,
   "metadata": {},
   "outputs": [],
   "source": []
  },
  {
   "cell_type": "code",
   "execution_count": null,
   "metadata": {},
   "outputs": [],
   "source": []
  }
 ],
 "metadata": {
  "kernelspec": {
   "display_name": "venv",
   "language": "python",
   "name": "python3"
  },
  "language_info": {
   "codemirror_mode": {
    "name": "ipython",
    "version": 3
   },
   "file_extension": ".py",
   "mimetype": "text/x-python",
   "name": "python",
   "nbconvert_exporter": "python",
   "pygments_lexer": "ipython3",
   "version": "3.9.12"
  },
  "orig_nbformat": 4,
  "vscode": {
   "interpreter": {
    "hash": "1ccd4671e11b68106790b08597e0c65dfe06db6af884d1507d1626cafb1513de"
   }
  }
 },
 "nbformat": 4,
 "nbformat_minor": 2
}
